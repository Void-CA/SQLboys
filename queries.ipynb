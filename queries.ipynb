{
 "cells": [
  {
   "cell_type": "code",
   "id": "initial_id",
   "metadata": {
    "collapsed": true,
    "ExecuteTime": {
     "end_time": "2024-07-31T04:48:20.134110Z",
     "start_time": "2024-07-31T04:48:07.729547Z"
    }
   },
   "source": [
    "import pandas as pd\n",
    "import numpy as np\n",
    "import sqlite3"
   ],
   "outputs": [],
   "execution_count": 1
  },
  {
   "metadata": {
    "ExecuteTime": {
     "end_time": "2024-07-31T04:49:05.495132Z",
     "start_time": "2024-07-31T04:49:05.487852Z"
    }
   },
   "cell_type": "code",
   "source": [
    "# Base de datos en local\n",
    "database_path = \"northwind.db\"\n",
    "\n",
    "# Conexión a la base de datos\n",
    "engine = sqlite3.connect(database_path)\n",
    "\n",
    "# Crear un cursor\n",
    "cursor = engine.cursor()"
   ],
   "id": "7f2e1ad4fbdf898e",
   "outputs": [],
   "execution_count": 6
  },
  {
   "metadata": {
    "ExecuteTime": {
     "end_time": "2024-07-31T04:49:06.876032Z",
     "start_time": "2024-07-31T04:49:06.851138Z"
    }
   },
   "cell_type": "code",
   "source": [
    "# Obtener todas las tablas en la base de datos\n",
    "cursor.execute(\"SELECT name FROM sqlite_master WHERE type='table';\")\n",
    "tables = cursor.fetchall()\n",
    "\n",
    "print(\"Tablas en la base de datos:\")\n",
    "for table in tables:\n",
    "    print(table[0])"
   ],
   "id": "87c219eea69c5869",
   "outputs": [
    {
     "name": "stdout",
     "output_type": "stream",
     "text": [
      "Tablas en la base de datos:\n",
      "Categories\n",
      "sqlite_sequence\n",
      "CustomerCustomerDemo\n",
      "CustomerDemographics\n",
      "Customers\n",
      "Employees\n",
      "EmployeeTerritories\n",
      "Order Details\n",
      "Orders\n",
      "Products\n",
      "Regions\n",
      "Shippers\n",
      "Suppliers\n",
      "Territories\n"
     ]
    }
   ],
   "execution_count": 7
  },
  {
   "metadata": {
    "ExecuteTime": {
     "end_time": "2024-07-31T04:51:34.575380Z",
     "start_time": "2024-07-31T04:51:34.561324Z"
    }
   },
   "cell_type": "code",
   "source": [
    "# Consulta: Muestra los nombres de las compañías de clientes que se encuentran en la ciudad de 'Berlin’.\n",
    "query_1 = pd.read_sql(\"SELECT CompanyName FROM Customers WHERE City == 'Berlin'\", engine)\n",
    "query_1"
   ],
   "id": "e1503d661daaaf85",
   "outputs": [
    {
     "data": {
      "text/plain": [
       "           CompanyName\n",
       "0  Alfreds Futterkiste"
      ],
      "text/html": [
       "<div>\n",
       "<style scoped>\n",
       "    .dataframe tbody tr th:only-of-type {\n",
       "        vertical-align: middle;\n",
       "    }\n",
       "\n",
       "    .dataframe tbody tr th {\n",
       "        vertical-align: top;\n",
       "    }\n",
       "\n",
       "    .dataframe thead th {\n",
       "        text-align: right;\n",
       "    }\n",
       "</style>\n",
       "<table border=\"1\" class=\"dataframe\">\n",
       "  <thead>\n",
       "    <tr style=\"text-align: right;\">\n",
       "      <th></th>\n",
       "      <th>CompanyName</th>\n",
       "    </tr>\n",
       "  </thead>\n",
       "  <tbody>\n",
       "    <tr>\n",
       "      <th>0</th>\n",
       "      <td>Alfreds Futterkiste</td>\n",
       "    </tr>\n",
       "  </tbody>\n",
       "</table>\n",
       "</div>"
      ]
     },
     "execution_count": 11,
     "metadata": {},
     "output_type": "execute_result"
    }
   ],
   "execution_count": 11
  },
  {
   "metadata": {
    "ExecuteTime": {
     "end_time": "2024-07-31T04:53:57.061742Z",
     "start_time": "2024-07-31T04:53:57.042909Z"
    }
   },
   "cell_type": "code",
   "source": [
    "# Consulta: Muestra los nombres y apellidos de los empleados que trabajan en 'USA’.\n",
    "query_2 = pd.read_sql(\"SELECT FirstName, LastName FROM Employees WHERE Country == 'USA'\", engine)\n",
    "query_2"
   ],
   "id": "f73020a01e11b2b4",
   "outputs": [
    {
     "data": {
      "text/plain": [
       "  FirstName   LastName\n",
       "0     Nancy    Davolio\n",
       "1    Andrew     Fuller\n",
       "2     Janet  Leverling\n",
       "3  Margaret    Peacock\n",
       "4     Laura   Callahan"
      ],
      "text/html": [
       "<div>\n",
       "<style scoped>\n",
       "    .dataframe tbody tr th:only-of-type {\n",
       "        vertical-align: middle;\n",
       "    }\n",
       "\n",
       "    .dataframe tbody tr th {\n",
       "        vertical-align: top;\n",
       "    }\n",
       "\n",
       "    .dataframe thead th {\n",
       "        text-align: right;\n",
       "    }\n",
       "</style>\n",
       "<table border=\"1\" class=\"dataframe\">\n",
       "  <thead>\n",
       "    <tr style=\"text-align: right;\">\n",
       "      <th></th>\n",
       "      <th>FirstName</th>\n",
       "      <th>LastName</th>\n",
       "    </tr>\n",
       "  </thead>\n",
       "  <tbody>\n",
       "    <tr>\n",
       "      <th>0</th>\n",
       "      <td>Nancy</td>\n",
       "      <td>Davolio</td>\n",
       "    </tr>\n",
       "    <tr>\n",
       "      <th>1</th>\n",
       "      <td>Andrew</td>\n",
       "      <td>Fuller</td>\n",
       "    </tr>\n",
       "    <tr>\n",
       "      <th>2</th>\n",
       "      <td>Janet</td>\n",
       "      <td>Leverling</td>\n",
       "    </tr>\n",
       "    <tr>\n",
       "      <th>3</th>\n",
       "      <td>Margaret</td>\n",
       "      <td>Peacock</td>\n",
       "    </tr>\n",
       "    <tr>\n",
       "      <th>4</th>\n",
       "      <td>Laura</td>\n",
       "      <td>Callahan</td>\n",
       "    </tr>\n",
       "  </tbody>\n",
       "</table>\n",
       "</div>"
      ]
     },
     "execution_count": 16,
     "metadata": {},
     "output_type": "execute_result"
    }
   ],
   "execution_count": 16
  },
  {
   "metadata": {
    "ExecuteTime": {
     "end_time": "2024-07-31T05:00:25.852729Z",
     "start_time": "2024-07-31T05:00:25.793261Z"
    }
   },
   "cell_type": "code",
   "source": [
    "#Consulta: Muestra el ID de los pedidos y el ID del cliente para cada pedido.\n",
    "query_3 = pd.read_sql(\"SELECT Customers.CustomerID, Orders.OrderID FROM Customers \"\n",
    "                      \"JOIN Orders \"\n",
    "                      \"ON Customers.CustomerID = Orders.CustomerID\", engine)\n",
    "query_3"
   ],
   "id": "8da5c4b83e640838",
   "outputs": [
    {
     "data": {
      "text/plain": [
       "      CustomerID  OrderID\n",
       "0          VINET    10248\n",
       "1          TOMSP    10249\n",
       "2          HANAR    10250\n",
       "3          VICTE    10251\n",
       "4          SUPRD    10252\n",
       "...          ...      ...\n",
       "16277      WHITC    26525\n",
       "16278      WOLZA    26526\n",
       "16279      GOURL    26527\n",
       "16280      BLONP    26528\n",
       "16281      DUMON    26529\n",
       "\n",
       "[16282 rows x 2 columns]"
      ],
      "text/html": [
       "<div>\n",
       "<style scoped>\n",
       "    .dataframe tbody tr th:only-of-type {\n",
       "        vertical-align: middle;\n",
       "    }\n",
       "\n",
       "    .dataframe tbody tr th {\n",
       "        vertical-align: top;\n",
       "    }\n",
       "\n",
       "    .dataframe thead th {\n",
       "        text-align: right;\n",
       "    }\n",
       "</style>\n",
       "<table border=\"1\" class=\"dataframe\">\n",
       "  <thead>\n",
       "    <tr style=\"text-align: right;\">\n",
       "      <th></th>\n",
       "      <th>CustomerID</th>\n",
       "      <th>OrderID</th>\n",
       "    </tr>\n",
       "  </thead>\n",
       "  <tbody>\n",
       "    <tr>\n",
       "      <th>0</th>\n",
       "      <td>VINET</td>\n",
       "      <td>10248</td>\n",
       "    </tr>\n",
       "    <tr>\n",
       "      <th>1</th>\n",
       "      <td>TOMSP</td>\n",
       "      <td>10249</td>\n",
       "    </tr>\n",
       "    <tr>\n",
       "      <th>2</th>\n",
       "      <td>HANAR</td>\n",
       "      <td>10250</td>\n",
       "    </tr>\n",
       "    <tr>\n",
       "      <th>3</th>\n",
       "      <td>VICTE</td>\n",
       "      <td>10251</td>\n",
       "    </tr>\n",
       "    <tr>\n",
       "      <th>4</th>\n",
       "      <td>SUPRD</td>\n",
       "      <td>10252</td>\n",
       "    </tr>\n",
       "    <tr>\n",
       "      <th>...</th>\n",
       "      <td>...</td>\n",
       "      <td>...</td>\n",
       "    </tr>\n",
       "    <tr>\n",
       "      <th>16277</th>\n",
       "      <td>WHITC</td>\n",
       "      <td>26525</td>\n",
       "    </tr>\n",
       "    <tr>\n",
       "      <th>16278</th>\n",
       "      <td>WOLZA</td>\n",
       "      <td>26526</td>\n",
       "    </tr>\n",
       "    <tr>\n",
       "      <th>16279</th>\n",
       "      <td>GOURL</td>\n",
       "      <td>26527</td>\n",
       "    </tr>\n",
       "    <tr>\n",
       "      <th>16280</th>\n",
       "      <td>BLONP</td>\n",
       "      <td>26528</td>\n",
       "    </tr>\n",
       "    <tr>\n",
       "      <th>16281</th>\n",
       "      <td>DUMON</td>\n",
       "      <td>26529</td>\n",
       "    </tr>\n",
       "  </tbody>\n",
       "</table>\n",
       "<p>16282 rows × 2 columns</p>\n",
       "</div>"
      ]
     },
     "execution_count": 32,
     "metadata": {},
     "output_type": "execute_result"
    }
   ],
   "execution_count": 32
  },
  {
   "metadata": {},
   "cell_type": "code",
   "outputs": [],
   "execution_count": null,
   "source": "# Consulta: Muestra el nombre del producto y el nombre de la categoría para cada producto.\n",
   "id": "1570e50ad61bb2f8"
  }
 ],
 "metadata": {
  "kernelspec": {
   "display_name": "Python 3",
   "language": "python",
   "name": "python3"
  },
  "language_info": {
   "codemirror_mode": {
    "name": "ipython",
    "version": 2
   },
   "file_extension": ".py",
   "mimetype": "text/x-python",
   "name": "python",
   "nbconvert_exporter": "python",
   "pygments_lexer": "ipython2",
   "version": "2.7.6"
  }
 },
 "nbformat": 4,
 "nbformat_minor": 5
}
