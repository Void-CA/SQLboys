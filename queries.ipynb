{
 "cells": [
  {
   "cell_type": "code",
   "id": "initial_id",
   "metadata": {
    "collapsed": true,
    "ExecuteTime": {
     "end_time": "2024-07-31T04:48:20.134110Z",
     "start_time": "2024-07-31T04:48:07.729547Z"
    }
   },
   "source": [
    "import pandas as pd\n",
    "import numpy as np\n",
    "import sqlite3"
   ],
   "outputs": [],
   "execution_count": 1
  },
  {
   "metadata": {
    "ExecuteTime": {
     "end_time": "2024-07-31T04:49:05.495132Z",
     "start_time": "2024-07-31T04:49:05.487852Z"
    }
   },
   "cell_type": "code",
   "source": [
    "# Base de datos en local\n",
    "database_path = \"northwind.db\"\n",
    "\n",
    "# Conexión a la base de datos\n",
    "engine = sqlite3.connect(database_path)\n",
    "\n",
    "# Crear un cursor\n",
    "cursor = engine.cursor()"
   ],
   "id": "7f2e1ad4fbdf898e",
   "outputs": [],
   "execution_count": 6
  },
  {
   "metadata": {
    "ExecuteTime": {
     "end_time": "2024-07-31T05:16:57.625534Z",
     "start_time": "2024-07-31T05:16:57.617637Z"
    }
   },
   "cell_type": "code",
   "source": [
    "# Obtener todas las tablas en la base de datos\n",
    "cursor.execute(\"SELECT name FROM sqlite_master WHERE type='table';\")\n",
    "tables = cursor.fetchall()\n",
    "\n",
    "print(\"Tablas en la base de datos:\")\n",
    "for table in tables:\n",
    "    print(table[0])\n",
    "    "
   ],
   "id": "87c219eea69c5869",
   "outputs": [
    {
     "name": "stdout",
     "output_type": "stream",
     "text": [
      "Tablas en la base de datos:\n",
      "Categories\n",
      "sqlite_sequence\n",
      "CustomerCustomerDemo\n",
      "CustomerDemographics\n",
      "Customers\n",
      "Employees\n",
      "EmployeeTerritories\n",
      "Order Details\n",
      "Orders\n",
      "Products\n",
      "Regions\n",
      "Shippers\n",
      "Suppliers\n",
      "Territories\n"
     ]
    }
   ],
   "execution_count": 50
  },
  {
   "metadata": {
    "ExecuteTime": {
     "end_time": "2024-07-31T05:24:00.582297Z",
     "start_time": "2024-07-31T05:24:00.562738Z"
    }
   },
   "cell_type": "code",
   "source": "print(pd.read_sql(\"SELECT * FROM Customers LIMIT 1\", engine))",
   "id": "dad061238b648891",
   "outputs": [
    {
     "name": "stdout",
     "output_type": "stream",
     "text": [
      "  CustomerID          CompanyName   ContactName          ContactTitle  \\\n",
      "0      ALFKI  Alfreds Futterkiste  Maria Anders  Sales Representative   \n",
      "\n",
      "         Address    City          Region PostalCode  Country        Phone  \\\n",
      "0  Obere Str. 57  Berlin  Western Europe      12209  Germany  030-0074321   \n",
      "\n",
      "           Fax  \n",
      "0  030-0076545  \n"
     ]
    }
   ],
   "execution_count": 65
  },
  {
   "metadata": {
    "ExecuteTime": {
     "end_time": "2024-07-31T05:12:00.536183Z",
     "start_time": "2024-07-31T05:12:00.502318Z"
    }
   },
   "cell_type": "code",
   "source": [
    "# Obtener la estructura de cada tabla\n",
    "for table in tables:\n",
    "    table_name = table[0]\n",
    "    cursor.execute(f\"PRAGMA table_info({table_name});\")\n",
    "    columns = cursor.fetchall()\n",
    "    print(f\"\\nEstructura de la tabla '{table_name}':\")\n",
    "    for column in columns:\n",
    "        print(f\"Nombre: {column[1]}, Tipo: {column[2]}\")\n"
   ],
   "id": "9ec315ca5b71f19d",
   "outputs": [
    {
     "name": "stdout",
     "output_type": "stream",
     "text": [
      "\n",
      "Estructura de la tabla 'Categories':\n",
      "Nombre: CategoryID, Tipo: INTEGER\n",
      "Nombre: CategoryName, Tipo: TEXT\n",
      "Nombre: Description, Tipo: TEXT\n",
      "Nombre: Picture, Tipo: BLOB\n",
      "\n",
      "Estructura de la tabla 'sqlite_sequence':\n",
      "Nombre: name, Tipo: \n",
      "Nombre: seq, Tipo: \n",
      "\n",
      "Estructura de la tabla 'CustomerCustomerDemo':\n",
      "Nombre: CustomerID, Tipo: TEXT\n",
      "Nombre: CustomerTypeID, Tipo: TEXT\n",
      "\n",
      "Estructura de la tabla 'CustomerDemographics':\n",
      "Nombre: CustomerTypeID, Tipo: TEXT\n",
      "Nombre: CustomerDesc, Tipo: TEXT\n",
      "\n",
      "Estructura de la tabla 'Customers':\n",
      "Nombre: CustomerID, Tipo: TEXT\n",
      "Nombre: CompanyName, Tipo: TEXT\n",
      "Nombre: ContactName, Tipo: TEXT\n",
      "Nombre: ContactTitle, Tipo: TEXT\n",
      "Nombre: Address, Tipo: TEXT\n",
      "Nombre: City, Tipo: TEXT\n",
      "Nombre: Region, Tipo: TEXT\n",
      "Nombre: PostalCode, Tipo: TEXT\n",
      "Nombre: Country, Tipo: TEXT\n",
      "Nombre: Phone, Tipo: TEXT\n",
      "Nombre: Fax, Tipo: TEXT\n",
      "\n",
      "Estructura de la tabla 'Employees':\n",
      "Nombre: EmployeeID, Tipo: INTEGER\n",
      "Nombre: LastName, Tipo: TEXT\n",
      "Nombre: FirstName, Tipo: TEXT\n",
      "Nombre: Title, Tipo: TEXT\n",
      "Nombre: TitleOfCourtesy, Tipo: TEXT\n",
      "Nombre: BirthDate, Tipo: DATE\n",
      "Nombre: HireDate, Tipo: DATE\n",
      "Nombre: Address, Tipo: TEXT\n",
      "Nombre: City, Tipo: TEXT\n",
      "Nombre: Region, Tipo: TEXT\n",
      "Nombre: PostalCode, Tipo: TEXT\n",
      "Nombre: Country, Tipo: TEXT\n",
      "Nombre: HomePhone, Tipo: TEXT\n",
      "Nombre: Extension, Tipo: TEXT\n",
      "Nombre: Photo, Tipo: BLOB\n",
      "Nombre: Notes, Tipo: TEXT\n",
      "Nombre: ReportsTo, Tipo: INTEGER\n",
      "Nombre: PhotoPath, Tipo: TEXT\n",
      "\n",
      "Estructura de la tabla 'EmployeeTerritories':\n",
      "Nombre: EmployeeID, Tipo: INTEGER\n",
      "Nombre: TerritoryID, Tipo: TEXT\n"
     ]
    },
    {
     "ename": "OperationalError",
     "evalue": "near \"Order\": syntax error",
     "output_type": "error",
     "traceback": [
      "\u001B[1;31m---------------------------------------------------------------------------\u001B[0m",
      "\u001B[1;31mOperationalError\u001B[0m                          Traceback (most recent call last)",
      "Cell \u001B[1;32mIn[41], line 4\u001B[0m\n\u001B[0;32m      2\u001B[0m \u001B[38;5;28;01mfor\u001B[39;00m table \u001B[38;5;129;01min\u001B[39;00m tables:\n\u001B[0;32m      3\u001B[0m     table_name \u001B[38;5;241m=\u001B[39m table[\u001B[38;5;241m0\u001B[39m]\n\u001B[1;32m----> 4\u001B[0m     \u001B[43mcursor\u001B[49m\u001B[38;5;241;43m.\u001B[39;49m\u001B[43mexecute\u001B[49m\u001B[43m(\u001B[49m\u001B[38;5;124;43mf\u001B[39;49m\u001B[38;5;124;43m\"\u001B[39;49m\u001B[38;5;124;43mPRAGMA table_info(\u001B[39;49m\u001B[38;5;132;43;01m{\u001B[39;49;00m\u001B[43mtable_name\u001B[49m\u001B[38;5;132;43;01m}\u001B[39;49;00m\u001B[38;5;124;43m);\u001B[39;49m\u001B[38;5;124;43m\"\u001B[39;49m\u001B[43m)\u001B[49m\n\u001B[0;32m      5\u001B[0m     columns \u001B[38;5;241m=\u001B[39m cursor\u001B[38;5;241m.\u001B[39mfetchall()\n\u001B[0;32m      6\u001B[0m     \u001B[38;5;28mprint\u001B[39m(\u001B[38;5;124mf\u001B[39m\u001B[38;5;124m\"\u001B[39m\u001B[38;5;130;01m\\n\u001B[39;00m\u001B[38;5;124mEstructura de la tabla \u001B[39m\u001B[38;5;124m'\u001B[39m\u001B[38;5;132;01m{\u001B[39;00mtable_name\u001B[38;5;132;01m}\u001B[39;00m\u001B[38;5;124m'\u001B[39m\u001B[38;5;124m:\u001B[39m\u001B[38;5;124m\"\u001B[39m)\n",
      "\u001B[1;31mOperationalError\u001B[0m: near \"Order\": syntax error"
     ]
    }
   ],
   "execution_count": 41
  },
  {
   "metadata": {
    "ExecuteTime": {
     "end_time": "2024-07-31T04:51:34.575380Z",
     "start_time": "2024-07-31T04:51:34.561324Z"
    }
   },
   "cell_type": "code",
   "source": [
    "# Consulta: Muestra los nombres de las compañías de clientes que se encuentran en la ciudad de 'Berlin’.\n",
    "query_1 = pd.read_sql(\"SELECT CompanyName FROM Customers WHERE City == 'Berlin'\", engine)\n",
    "query_1"
   ],
   "id": "e1503d661daaaf85",
   "outputs": [
    {
     "data": {
      "text/plain": [
       "           CompanyName\n",
       "0  Alfreds Futterkiste"
      ],
      "text/html": [
       "<div>\n",
       "<style scoped>\n",
       "    .dataframe tbody tr th:only-of-type {\n",
       "        vertical-align: middle;\n",
       "    }\n",
       "\n",
       "    .dataframe tbody tr th {\n",
       "        vertical-align: top;\n",
       "    }\n",
       "\n",
       "    .dataframe thead th {\n",
       "        text-align: right;\n",
       "    }\n",
       "</style>\n",
       "<table border=\"1\" class=\"dataframe\">\n",
       "  <thead>\n",
       "    <tr style=\"text-align: right;\">\n",
       "      <th></th>\n",
       "      <th>CompanyName</th>\n",
       "    </tr>\n",
       "  </thead>\n",
       "  <tbody>\n",
       "    <tr>\n",
       "      <th>0</th>\n",
       "      <td>Alfreds Futterkiste</td>\n",
       "    </tr>\n",
       "  </tbody>\n",
       "</table>\n",
       "</div>"
      ]
     },
     "execution_count": 11,
     "metadata": {},
     "output_type": "execute_result"
    }
   ],
   "execution_count": 11
  },
  {
   "metadata": {
    "ExecuteTime": {
     "end_time": "2024-07-31T04:53:57.061742Z",
     "start_time": "2024-07-31T04:53:57.042909Z"
    }
   },
   "cell_type": "code",
   "source": [
    "# Consulta: Muestra los nombres y apellidos de los empleados que trabajan en 'USA’.\n",
    "query_2 = pd.read_sql(\"SELECT FirstName, LastName FROM Employees WHERE Country == 'USA'\", engine)\n",
    "query_2"
   ],
   "id": "f73020a01e11b2b4",
   "outputs": [
    {
     "data": {
      "text/plain": [
       "  FirstName   LastName\n",
       "0     Nancy    Davolio\n",
       "1    Andrew     Fuller\n",
       "2     Janet  Leverling\n",
       "3  Margaret    Peacock\n",
       "4     Laura   Callahan"
      ],
      "text/html": [
       "<div>\n",
       "<style scoped>\n",
       "    .dataframe tbody tr th:only-of-type {\n",
       "        vertical-align: middle;\n",
       "    }\n",
       "\n",
       "    .dataframe tbody tr th {\n",
       "        vertical-align: top;\n",
       "    }\n",
       "\n",
       "    .dataframe thead th {\n",
       "        text-align: right;\n",
       "    }\n",
       "</style>\n",
       "<table border=\"1\" class=\"dataframe\">\n",
       "  <thead>\n",
       "    <tr style=\"text-align: right;\">\n",
       "      <th></th>\n",
       "      <th>FirstName</th>\n",
       "      <th>LastName</th>\n",
       "    </tr>\n",
       "  </thead>\n",
       "  <tbody>\n",
       "    <tr>\n",
       "      <th>0</th>\n",
       "      <td>Nancy</td>\n",
       "      <td>Davolio</td>\n",
       "    </tr>\n",
       "    <tr>\n",
       "      <th>1</th>\n",
       "      <td>Andrew</td>\n",
       "      <td>Fuller</td>\n",
       "    </tr>\n",
       "    <tr>\n",
       "      <th>2</th>\n",
       "      <td>Janet</td>\n",
       "      <td>Leverling</td>\n",
       "    </tr>\n",
       "    <tr>\n",
       "      <th>3</th>\n",
       "      <td>Margaret</td>\n",
       "      <td>Peacock</td>\n",
       "    </tr>\n",
       "    <tr>\n",
       "      <th>4</th>\n",
       "      <td>Laura</td>\n",
       "      <td>Callahan</td>\n",
       "    </tr>\n",
       "  </tbody>\n",
       "</table>\n",
       "</div>"
      ]
     },
     "execution_count": 16,
     "metadata": {},
     "output_type": "execute_result"
    }
   ],
   "execution_count": 16
  },
  {
   "metadata": {
    "ExecuteTime": {
     "end_time": "2024-07-31T05:00:25.852729Z",
     "start_time": "2024-07-31T05:00:25.793261Z"
    }
   },
   "cell_type": "code",
   "source": [
    "#Consulta: Muestra el ID de los pedidos y el ID del cliente para cada pedido.\n",
    "query_3 = pd.read_sql(\"SELECT Customers.CustomerID, Orders.OrderID FROM Customers \"\n",
    "                      \"JOIN Orders \"\n",
    "                      \"ON Customers.CustomerID = Orders.CustomerID\", engine)\n",
    "query_3"
   ],
   "id": "8da5c4b83e640838",
   "outputs": [
    {
     "data": {
      "text/plain": [
       "      CustomerID  OrderID\n",
       "0          VINET    10248\n",
       "1          TOMSP    10249\n",
       "2          HANAR    10250\n",
       "3          VICTE    10251\n",
       "4          SUPRD    10252\n",
       "...          ...      ...\n",
       "16277      WHITC    26525\n",
       "16278      WOLZA    26526\n",
       "16279      GOURL    26527\n",
       "16280      BLONP    26528\n",
       "16281      DUMON    26529\n",
       "\n",
       "[16282 rows x 2 columns]"
      ],
      "text/html": [
       "<div>\n",
       "<style scoped>\n",
       "    .dataframe tbody tr th:only-of-type {\n",
       "        vertical-align: middle;\n",
       "    }\n",
       "\n",
       "    .dataframe tbody tr th {\n",
       "        vertical-align: top;\n",
       "    }\n",
       "\n",
       "    .dataframe thead th {\n",
       "        text-align: right;\n",
       "    }\n",
       "</style>\n",
       "<table border=\"1\" class=\"dataframe\">\n",
       "  <thead>\n",
       "    <tr style=\"text-align: right;\">\n",
       "      <th></th>\n",
       "      <th>CustomerID</th>\n",
       "      <th>OrderID</th>\n",
       "    </tr>\n",
       "  </thead>\n",
       "  <tbody>\n",
       "    <tr>\n",
       "      <th>0</th>\n",
       "      <td>VINET</td>\n",
       "      <td>10248</td>\n",
       "    </tr>\n",
       "    <tr>\n",
       "      <th>1</th>\n",
       "      <td>TOMSP</td>\n",
       "      <td>10249</td>\n",
       "    </tr>\n",
       "    <tr>\n",
       "      <th>2</th>\n",
       "      <td>HANAR</td>\n",
       "      <td>10250</td>\n",
       "    </tr>\n",
       "    <tr>\n",
       "      <th>3</th>\n",
       "      <td>VICTE</td>\n",
       "      <td>10251</td>\n",
       "    </tr>\n",
       "    <tr>\n",
       "      <th>4</th>\n",
       "      <td>SUPRD</td>\n",
       "      <td>10252</td>\n",
       "    </tr>\n",
       "    <tr>\n",
       "      <th>...</th>\n",
       "      <td>...</td>\n",
       "      <td>...</td>\n",
       "    </tr>\n",
       "    <tr>\n",
       "      <th>16277</th>\n",
       "      <td>WHITC</td>\n",
       "      <td>26525</td>\n",
       "    </tr>\n",
       "    <tr>\n",
       "      <th>16278</th>\n",
       "      <td>WOLZA</td>\n",
       "      <td>26526</td>\n",
       "    </tr>\n",
       "    <tr>\n",
       "      <th>16279</th>\n",
       "      <td>GOURL</td>\n",
       "      <td>26527</td>\n",
       "    </tr>\n",
       "    <tr>\n",
       "      <th>16280</th>\n",
       "      <td>BLONP</td>\n",
       "      <td>26528</td>\n",
       "    </tr>\n",
       "    <tr>\n",
       "      <th>16281</th>\n",
       "      <td>DUMON</td>\n",
       "      <td>26529</td>\n",
       "    </tr>\n",
       "  </tbody>\n",
       "</table>\n",
       "<p>16282 rows × 2 columns</p>\n",
       "</div>"
      ]
     },
     "execution_count": 32,
     "metadata": {},
     "output_type": "execute_result"
    }
   ],
   "execution_count": 32
  },
  {
   "metadata": {
    "ExecuteTime": {
     "end_time": "2024-07-31T05:14:55.611520Z",
     "start_time": "2024-07-31T05:14:55.592300Z"
    }
   },
   "cell_type": "code",
   "source": [
    "# Consulta: Muestra el nombre del producto y el nombre de la categoría para cada producto.\n",
    "query_4 = pd.read_sql(\"SELECT Products.ProductName, Categories.CategoryName FROM Products \"\n",
    "                      \"JOIN Categories \"\n",
    "                      \"ON Categories.CategoryID = Products.CategoryID\", engine)\n",
    "query_4"
   ],
   "id": "1570e50ad61bb2f8",
   "outputs": [
    {
     "data": {
      "text/plain": [
       "                        ProductName CategoryName\n",
       "0                              Chai    Beverages\n",
       "1                             Chang    Beverages\n",
       "2                     Aniseed Syrup   Condiments\n",
       "3      Chef Anton's Cajun Seasoning   Condiments\n",
       "4            Chef Anton's Gumbo Mix   Condiments\n",
       "..                              ...          ...\n",
       "72                       Röd Kaviar      Seafood\n",
       "73                    Longlife Tofu      Produce\n",
       "74             Rhönbräu Klosterbier    Beverages\n",
       "75                     Lakkalikööri    Beverages\n",
       "76  Original Frankfurter grüne Soße   Condiments\n",
       "\n",
       "[77 rows x 2 columns]"
      ],
      "text/html": [
       "<div>\n",
       "<style scoped>\n",
       "    .dataframe tbody tr th:only-of-type {\n",
       "        vertical-align: middle;\n",
       "    }\n",
       "\n",
       "    .dataframe tbody tr th {\n",
       "        vertical-align: top;\n",
       "    }\n",
       "\n",
       "    .dataframe thead th {\n",
       "        text-align: right;\n",
       "    }\n",
       "</style>\n",
       "<table border=\"1\" class=\"dataframe\">\n",
       "  <thead>\n",
       "    <tr style=\"text-align: right;\">\n",
       "      <th></th>\n",
       "      <th>ProductName</th>\n",
       "      <th>CategoryName</th>\n",
       "    </tr>\n",
       "  </thead>\n",
       "  <tbody>\n",
       "    <tr>\n",
       "      <th>0</th>\n",
       "      <td>Chai</td>\n",
       "      <td>Beverages</td>\n",
       "    </tr>\n",
       "    <tr>\n",
       "      <th>1</th>\n",
       "      <td>Chang</td>\n",
       "      <td>Beverages</td>\n",
       "    </tr>\n",
       "    <tr>\n",
       "      <th>2</th>\n",
       "      <td>Aniseed Syrup</td>\n",
       "      <td>Condiments</td>\n",
       "    </tr>\n",
       "    <tr>\n",
       "      <th>3</th>\n",
       "      <td>Chef Anton's Cajun Seasoning</td>\n",
       "      <td>Condiments</td>\n",
       "    </tr>\n",
       "    <tr>\n",
       "      <th>4</th>\n",
       "      <td>Chef Anton's Gumbo Mix</td>\n",
       "      <td>Condiments</td>\n",
       "    </tr>\n",
       "    <tr>\n",
       "      <th>...</th>\n",
       "      <td>...</td>\n",
       "      <td>...</td>\n",
       "    </tr>\n",
       "    <tr>\n",
       "      <th>72</th>\n",
       "      <td>Röd Kaviar</td>\n",
       "      <td>Seafood</td>\n",
       "    </tr>\n",
       "    <tr>\n",
       "      <th>73</th>\n",
       "      <td>Longlife Tofu</td>\n",
       "      <td>Produce</td>\n",
       "    </tr>\n",
       "    <tr>\n",
       "      <th>74</th>\n",
       "      <td>Rhönbräu Klosterbier</td>\n",
       "      <td>Beverages</td>\n",
       "    </tr>\n",
       "    <tr>\n",
       "      <th>75</th>\n",
       "      <td>Lakkalikööri</td>\n",
       "      <td>Beverages</td>\n",
       "    </tr>\n",
       "    <tr>\n",
       "      <th>76</th>\n",
       "      <td>Original Frankfurter grüne Soße</td>\n",
       "      <td>Condiments</td>\n",
       "    </tr>\n",
       "  </tbody>\n",
       "</table>\n",
       "<p>77 rows × 2 columns</p>\n",
       "</div>"
      ]
     },
     "execution_count": 47,
     "metadata": {},
     "output_type": "execute_result"
    }
   ],
   "execution_count": 47
  },
  {
   "metadata": {
    "ExecuteTime": {
     "end_time": "2024-07-31T05:19:06.206529Z",
     "start_time": "2024-07-31T05:19:06.194780Z"
    }
   },
   "cell_type": "code",
   "source": [
    "# Consulta: Muestra los nombres de las compañías de los proveedores que se encuentran en 'London'.\n",
    "query_5 = pd.read_sql(\"SELECT CompanyName FROM Suppliers WHERE City == 'London'\", engine)\n",
    "query_5"
   ],
   "id": "15cba39f363875e5",
   "outputs": [
    {
     "data": {
      "text/plain": [
       "      CompanyName\n",
       "0  Exotic Liquids"
      ],
      "text/html": [
       "<div>\n",
       "<style scoped>\n",
       "    .dataframe tbody tr th:only-of-type {\n",
       "        vertical-align: middle;\n",
       "    }\n",
       "\n",
       "    .dataframe tbody tr th {\n",
       "        vertical-align: top;\n",
       "    }\n",
       "\n",
       "    .dataframe thead th {\n",
       "        text-align: right;\n",
       "    }\n",
       "</style>\n",
       "<table border=\"1\" class=\"dataframe\">\n",
       "  <thead>\n",
       "    <tr style=\"text-align: right;\">\n",
       "      <th></th>\n",
       "      <th>CompanyName</th>\n",
       "    </tr>\n",
       "  </thead>\n",
       "  <tbody>\n",
       "    <tr>\n",
       "      <th>0</th>\n",
       "      <td>Exotic Liquids</td>\n",
       "    </tr>\n",
       "  </tbody>\n",
       "</table>\n",
       "</div>"
      ]
     },
     "execution_count": 53,
     "metadata": {},
     "output_type": "execute_result"
    }
   ],
   "execution_count": 53
  },
  {
   "metadata": {
    "ExecuteTime": {
     "end_time": "2024-07-31T05:26:02.390912Z",
     "start_time": "2024-07-31T05:26:02.317016Z"
    }
   },
   "cell_type": "code",
   "source": [
    "# Consulta: Muestra el ID del pedido, la fecha del pedido y el nombre del cliente para todos los pedidos realizados después del ‘1998-06-01’.\n",
    "query_5 = pd.read_sql(\"\"\"\n",
    "    SELECT Orders.OrderID, Orders.OrderDate, Customers.ContactName\n",
    "    FROM Orders\n",
    "    JOIN Customers ON Customers.CustomerID = Orders.CustomerID\n",
    "    WHERE Orders.OrderDate > '1998-06-01'\n",
    "    \"\"\", engine)\n",
    "query_5"
   ],
   "id": "4c83006955e7f6fb",
   "outputs": [
    {
     "data": {
      "text/plain": [
       "       OrderID            OrderDate              ContactName\n",
       "0        10248           2016-07-04             Paul Henriot\n",
       "1        10249           2016-07-05            Karin Josephs\n",
       "2        10250           2016-07-08             Mario Pontes\n",
       "3        10251           2016-07-08             Mary Saveley\n",
       "4        10252           2016-07-09         Pascale Cartrain\n",
       "...        ...                  ...                      ...\n",
       "16277    26525  2012-12-26 04:58:22           Karl Jablonski\n",
       "16278    26526  2022-08-05 06:33:39  Zbyszek Piestrzeniewicz\n",
       "16279    26527  2022-02-09 08:20:12            André Fonseca\n",
       "16280    26528  2020-04-27 23:05:30       Frédérique Citeaux\n",
       "16281    26529  2023-01-10 05:40:51           Janine Labrune\n",
       "\n",
       "[16282 rows x 3 columns]"
      ],
      "text/html": [
       "<div>\n",
       "<style scoped>\n",
       "    .dataframe tbody tr th:only-of-type {\n",
       "        vertical-align: middle;\n",
       "    }\n",
       "\n",
       "    .dataframe tbody tr th {\n",
       "        vertical-align: top;\n",
       "    }\n",
       "\n",
       "    .dataframe thead th {\n",
       "        text-align: right;\n",
       "    }\n",
       "</style>\n",
       "<table border=\"1\" class=\"dataframe\">\n",
       "  <thead>\n",
       "    <tr style=\"text-align: right;\">\n",
       "      <th></th>\n",
       "      <th>OrderID</th>\n",
       "      <th>OrderDate</th>\n",
       "      <th>ContactName</th>\n",
       "    </tr>\n",
       "  </thead>\n",
       "  <tbody>\n",
       "    <tr>\n",
       "      <th>0</th>\n",
       "      <td>10248</td>\n",
       "      <td>2016-07-04</td>\n",
       "      <td>Paul Henriot</td>\n",
       "    </tr>\n",
       "    <tr>\n",
       "      <th>1</th>\n",
       "      <td>10249</td>\n",
       "      <td>2016-07-05</td>\n",
       "      <td>Karin Josephs</td>\n",
       "    </tr>\n",
       "    <tr>\n",
       "      <th>2</th>\n",
       "      <td>10250</td>\n",
       "      <td>2016-07-08</td>\n",
       "      <td>Mario Pontes</td>\n",
       "    </tr>\n",
       "    <tr>\n",
       "      <th>3</th>\n",
       "      <td>10251</td>\n",
       "      <td>2016-07-08</td>\n",
       "      <td>Mary Saveley</td>\n",
       "    </tr>\n",
       "    <tr>\n",
       "      <th>4</th>\n",
       "      <td>10252</td>\n",
       "      <td>2016-07-09</td>\n",
       "      <td>Pascale Cartrain</td>\n",
       "    </tr>\n",
       "    <tr>\n",
       "      <th>...</th>\n",
       "      <td>...</td>\n",
       "      <td>...</td>\n",
       "      <td>...</td>\n",
       "    </tr>\n",
       "    <tr>\n",
       "      <th>16277</th>\n",
       "      <td>26525</td>\n",
       "      <td>2012-12-26 04:58:22</td>\n",
       "      <td>Karl Jablonski</td>\n",
       "    </tr>\n",
       "    <tr>\n",
       "      <th>16278</th>\n",
       "      <td>26526</td>\n",
       "      <td>2022-08-05 06:33:39</td>\n",
       "      <td>Zbyszek Piestrzeniewicz</td>\n",
       "    </tr>\n",
       "    <tr>\n",
       "      <th>16279</th>\n",
       "      <td>26527</td>\n",
       "      <td>2022-02-09 08:20:12</td>\n",
       "      <td>André Fonseca</td>\n",
       "    </tr>\n",
       "    <tr>\n",
       "      <th>16280</th>\n",
       "      <td>26528</td>\n",
       "      <td>2020-04-27 23:05:30</td>\n",
       "      <td>Frédérique Citeaux</td>\n",
       "    </tr>\n",
       "    <tr>\n",
       "      <th>16281</th>\n",
       "      <td>26529</td>\n",
       "      <td>2023-01-10 05:40:51</td>\n",
       "      <td>Janine Labrune</td>\n",
       "    </tr>\n",
       "  </tbody>\n",
       "</table>\n",
       "<p>16282 rows × 3 columns</p>\n",
       "</div>"
      ]
     },
     "execution_count": 69,
     "metadata": {},
     "output_type": "execute_result"
    }
   ],
   "execution_count": 69
  },
  {
   "metadata": {},
   "cell_type": "code",
   "outputs": [],
   "execution_count": null,
   "source": "",
   "id": "31f74f733b0b3663"
  }
 ],
 "metadata": {
  "kernelspec": {
   "display_name": "Python 3",
   "language": "python",
   "name": "python3"
  },
  "language_info": {
   "codemirror_mode": {
    "name": "ipython",
    "version": 2
   },
   "file_extension": ".py",
   "mimetype": "text/x-python",
   "name": "python",
   "nbconvert_exporter": "python",
   "pygments_lexer": "ipython2",
   "version": "2.7.6"
  }
 },
 "nbformat": 4,
 "nbformat_minor": 5
}
